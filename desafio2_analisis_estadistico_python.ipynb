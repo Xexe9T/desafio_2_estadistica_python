{
 "cells": [
  {
   "metadata": {},
   "cell_type": "markdown",
   "source": "# DESAFIO 2 ANALISIS ESTADISTICO CON PYTHON - DATA SCIENCE - DESAFIO LATAM",
   "id": "d8eb90f467026782"
  },
  {
   "cell_type": "code",
   "id": "initial_id",
   "metadata": {
    "collapsed": true,
    "ExecuteTime": {
     "end_time": "2024-08-12T02:40:27.406853Z",
     "start_time": "2024-08-12T02:40:27.077659Z"
    }
   },
   "source": [
    "# Importamos la libreria pandas como pd\n",
    "import pandas as pd"
   ],
   "outputs": [],
   "execution_count": 1
  },
  {
   "metadata": {
    "ExecuteTime": {
     "end_time": "2024-08-12T02:40:27.430251Z",
     "start_time": "2024-08-12T02:40:27.409125Z"
    }
   },
   "cell_type": "code",
   "source": [
    "# Creamos el DataFrame importando el archivo entregado\n",
    "df_worldcup2014 = pd.read_csv('worldcup2014.csv')\n",
    "df_worldcup2014.head()"
   ],
   "id": "9263fda83643d8a3",
   "outputs": [
    {
     "data": {
      "text/plain": [
       "          team     continent group  group_pos  cantidad_juegos  \\\n",
       "0       Brazil  southamerica     A          1                3   \n",
       "1       Mexico  northamerica     A          2                3   \n",
       "2      Croatia        europe     A          3                3   \n",
       "3     Cameroon        africa     A          4                3   \n",
       "4  Netherlands        europe     B          1                3   \n",
       "\n",
       "   juegos_ganados  juegos_empatados  juegos_perdidos  goles_favor  \\\n",
       "0               2                 1                0            7   \n",
       "1               2                 1                0            4   \n",
       "2               1                 0                2            6   \n",
       "3               0                 0                3            1   \n",
       "4               3                 0                0           10   \n",
       "\n",
       "   goles_contra goles_diferencia  puntos  clasificado  \n",
       "0             2                5       7            1  \n",
       "1             1                3       7            1  \n",
       "2             6                0       3            0  \n",
       "3             9               −8       0            0  \n",
       "4             3                7       9            1  "
      ],
      "text/html": [
       "<div>\n",
       "<style scoped>\n",
       "    .dataframe tbody tr th:only-of-type {\n",
       "        vertical-align: middle;\n",
       "    }\n",
       "\n",
       "    .dataframe tbody tr th {\n",
       "        vertical-align: top;\n",
       "    }\n",
       "\n",
       "    .dataframe thead th {\n",
       "        text-align: right;\n",
       "    }\n",
       "</style>\n",
       "<table border=\"1\" class=\"dataframe\">\n",
       "  <thead>\n",
       "    <tr style=\"text-align: right;\">\n",
       "      <th></th>\n",
       "      <th>team</th>\n",
       "      <th>continent</th>\n",
       "      <th>group</th>\n",
       "      <th>group_pos</th>\n",
       "      <th>cantidad_juegos</th>\n",
       "      <th>juegos_ganados</th>\n",
       "      <th>juegos_empatados</th>\n",
       "      <th>juegos_perdidos</th>\n",
       "      <th>goles_favor</th>\n",
       "      <th>goles_contra</th>\n",
       "      <th>goles_diferencia</th>\n",
       "      <th>puntos</th>\n",
       "      <th>clasificado</th>\n",
       "    </tr>\n",
       "  </thead>\n",
       "  <tbody>\n",
       "    <tr>\n",
       "      <th>0</th>\n",
       "      <td>Brazil</td>\n",
       "      <td>southamerica</td>\n",
       "      <td>A</td>\n",
       "      <td>1</td>\n",
       "      <td>3</td>\n",
       "      <td>2</td>\n",
       "      <td>1</td>\n",
       "      <td>0</td>\n",
       "      <td>7</td>\n",
       "      <td>2</td>\n",
       "      <td>5</td>\n",
       "      <td>7</td>\n",
       "      <td>1</td>\n",
       "    </tr>\n",
       "    <tr>\n",
       "      <th>1</th>\n",
       "      <td>Mexico</td>\n",
       "      <td>northamerica</td>\n",
       "      <td>A</td>\n",
       "      <td>2</td>\n",
       "      <td>3</td>\n",
       "      <td>2</td>\n",
       "      <td>1</td>\n",
       "      <td>0</td>\n",
       "      <td>4</td>\n",
       "      <td>1</td>\n",
       "      <td>3</td>\n",
       "      <td>7</td>\n",
       "      <td>1</td>\n",
       "    </tr>\n",
       "    <tr>\n",
       "      <th>2</th>\n",
       "      <td>Croatia</td>\n",
       "      <td>europe</td>\n",
       "      <td>A</td>\n",
       "      <td>3</td>\n",
       "      <td>3</td>\n",
       "      <td>1</td>\n",
       "      <td>0</td>\n",
       "      <td>2</td>\n",
       "      <td>6</td>\n",
       "      <td>6</td>\n",
       "      <td>0</td>\n",
       "      <td>3</td>\n",
       "      <td>0</td>\n",
       "    </tr>\n",
       "    <tr>\n",
       "      <th>3</th>\n",
       "      <td>Cameroon</td>\n",
       "      <td>africa</td>\n",
       "      <td>A</td>\n",
       "      <td>4</td>\n",
       "      <td>3</td>\n",
       "      <td>0</td>\n",
       "      <td>0</td>\n",
       "      <td>3</td>\n",
       "      <td>1</td>\n",
       "      <td>9</td>\n",
       "      <td>−8</td>\n",
       "      <td>0</td>\n",
       "      <td>0</td>\n",
       "    </tr>\n",
       "    <tr>\n",
       "      <th>4</th>\n",
       "      <td>Netherlands</td>\n",
       "      <td>europe</td>\n",
       "      <td>B</td>\n",
       "      <td>1</td>\n",
       "      <td>3</td>\n",
       "      <td>3</td>\n",
       "      <td>0</td>\n",
       "      <td>0</td>\n",
       "      <td>10</td>\n",
       "      <td>3</td>\n",
       "      <td>7</td>\n",
       "      <td>9</td>\n",
       "      <td>1</td>\n",
       "    </tr>\n",
       "  </tbody>\n",
       "</table>\n",
       "</div>"
      ]
     },
     "execution_count": 2,
     "metadata": {},
     "output_type": "execute_result"
    }
   ],
   "execution_count": 2
  },
  {
   "metadata": {
    "ExecuteTime": {
     "end_time": "2024-08-12T02:40:27.434605Z",
     "start_time": "2024-08-12T02:40:27.431272Z"
    }
   },
   "cell_type": "code",
   "source": [
    "# Contamos el total de equipos participantes\n",
    "todos = len(df_worldcup2014)\n",
    "todos"
   ],
   "id": "5a3e86e8ad2a5edd",
   "outputs": [
    {
     "data": {
      "text/plain": [
       "32"
      ]
     },
     "execution_count": 3,
     "metadata": {},
     "output_type": "execute_result"
    }
   ],
   "execution_count": 3
  },
  {
   "metadata": {
    "ExecuteTime": {
     "end_time": "2024-08-12T02:40:27.440653Z",
     "start_time": "2024-08-12T02:40:27.436808Z"
    }
   },
   "cell_type": "code",
   "source": [
    "# Contamos la cantidad de equipos por continente iniciales\n",
    "europeos = (df_worldcup2014['continent']=='europe').sum()\n",
    "africanos = (df_worldcup2014['continent']=='africa').sum()\n",
    "asiaticos = (df_worldcup2014['continent']=='asia').sum()\n",
    "norteamericanos = (df_worldcup2014['continent']=='northamerica').sum()\n",
    "sudamericanos = (df_worldcup2014['continent']=='southamerica').sum()\n",
    "print(europeos)\n",
    "print(africanos)\n",
    "print(asiaticos)\n",
    "print(norteamericanos)\n",
    "print(sudamericanos)"
   ],
   "id": "9ad04fcc375a26b0",
   "outputs": [
    {
     "name": "stdout",
     "output_type": "stream",
     "text": [
      "13\n",
      "5\n",
      "4\n",
      "4\n",
      "6\n"
     ]
    }
   ],
   "execution_count": 4
  },
  {
   "metadata": {
    "ExecuteTime": {
     "end_time": "2024-08-12T02:40:27.445820Z",
     "start_time": "2024-08-12T02:40:27.441928Z"
    }
   },
   "cell_type": "code",
   "source": [
    "# Contamos el total de equipos clasificados\n",
    "clasificados = df_worldcup2014['clasificado'].sum()\n",
    "clasificados"
   ],
   "id": "1c5846b7b637a317",
   "outputs": [
    {
     "data": {
      "text/plain": [
       "16"
      ]
     },
     "execution_count": 5,
     "metadata": {},
     "output_type": "execute_result"
    }
   ],
   "execution_count": 5
  },
  {
   "metadata": {},
   "cell_type": "markdown",
   "source": [
    "### 1. Considerando el experimento de seleccionar un país participante al azar, se pide\n",
    "###    determinar las probabilidades de los siguientes sucesos:"
   ],
   "id": "54ed22a90ed0021e"
  },
  {
   "metadata": {},
   "cell_type": "markdown",
   "source": "a. pertenecer a África\n",
   "id": "aba1fba3f23e8aba"
  },
  {
   "metadata": {
    "ExecuteTime": {
     "end_time": "2024-08-12T02:40:27.449481Z",
     "start_time": "2024-08-12T02:40:27.446531Z"
    }
   },
   "cell_type": "code",
   "source": [
    "# El % de equipos africanos corresponde al total de equipos africanos sobre el total de equipos participantes\n",
    "p_africanos = ((africanos / todos) * 100).round(2)\n",
    "print(f'La probabilidad de que el equipo sea africano es de {p_africanos}%')"
   ],
   "id": "13f1161a53e63ee5",
   "outputs": [
    {
     "name": "stdout",
     "output_type": "stream",
     "text": [
      "La probabilidad de que el equipo sea africano es de 15.62%\n"
     ]
    }
   ],
   "execution_count": 6
  },
  {
   "metadata": {},
   "cell_type": "markdown",
   "source": "b. pertenecer a Asia\n",
   "id": "bf42c458fc86c8d9"
  },
  {
   "metadata": {
    "ExecuteTime": {
     "end_time": "2024-08-12T02:40:27.452695Z",
     "start_time": "2024-08-12T02:40:27.450345Z"
    }
   },
   "cell_type": "code",
   "source": [
    "# El % de equipos asiático corresponde al total de equipos asiáticos sobre el total de equipos participantes\n",
    "p_asiaticos = ((asiaticos / todos) * 100).round(2)\n",
    "print(f'La probabilidad de que el equipo sea asiático es de {p_asiaticos}%')"
   ],
   "id": "d108060caec463f5",
   "outputs": [
    {
     "name": "stdout",
     "output_type": "stream",
     "text": [
      "La probabilidad de que el equipo sea asiático es de 12.5%\n"
     ]
    }
   ],
   "execution_count": 7
  },
  {
   "metadata": {},
   "cell_type": "markdown",
   "source": "c. pertenecer a Europa\n",
   "id": "cb8577b49069056d"
  },
  {
   "metadata": {
    "ExecuteTime": {
     "end_time": "2024-08-12T02:40:27.457141Z",
     "start_time": "2024-08-12T02:40:27.454868Z"
    }
   },
   "cell_type": "code",
   "source": [
    "# El % de equipos europeos corresponde al total de equipos europeos sobre el total de equipos participantes\n",
    "p_europeos = ((europeos / todos) * 100).round(2)\n",
    "print(f'La probabilidad de que el equipo sea europeo es de {p_europeos}%')"
   ],
   "id": "49353bef33e7a905",
   "outputs": [
    {
     "name": "stdout",
     "output_type": "stream",
     "text": [
      "La probabilidad de que el equipo sea europeo es de 40.62%\n"
     ]
    }
   ],
   "execution_count": 8
  },
  {
   "metadata": {},
   "cell_type": "markdown",
   "source": "d. pertenecer a Norteamérica\n",
   "id": "825f383c5fbae6ce"
  },
  {
   "metadata": {
    "ExecuteTime": {
     "end_time": "2024-08-12T02:40:27.460622Z",
     "start_time": "2024-08-12T02:40:27.458409Z"
    }
   },
   "cell_type": "code",
   "source": [
    "# El % de equipos norteamericanos corresponde al total de equipos norteamericanos sobre el total de equipos participantes\n",
    "p_norteamericanos = ((norteamericanos / todos) * 100).round(2)\n",
    "print(f'La probabilidad de que el equipo sea norteamericano es de {p_norteamericanos}%')"
   ],
   "id": "e5794eaf7685a919",
   "outputs": [
    {
     "name": "stdout",
     "output_type": "stream",
     "text": [
      "La probabilidad de que el equipo sea norteamericano es de 12.5%\n"
     ]
    }
   ],
   "execution_count": 9
  },
  {
   "metadata": {},
   "cell_type": "markdown",
   "source": "e. pertenecer a Sudamérica\n",
   "id": "436eae70a33b64a0"
  },
  {
   "metadata": {
    "ExecuteTime": {
     "end_time": "2024-08-12T02:40:27.465435Z",
     "start_time": "2024-08-12T02:40:27.462834Z"
    }
   },
   "cell_type": "code",
   "source": [
    "# El % de equipos sudamericanos corresponde al total de equipos sudamericanos sobre el total de equipos participantes\n",
    "p_sudamericanos = ((sudamericanos / todos) * 100).round(2)\n",
    "print(f'La probabilidad de que el equipo sea sudamericano es de {p_sudamericanos}%')"
   ],
   "id": "db4081ac15a1797b",
   "outputs": [
    {
     "name": "stdout",
     "output_type": "stream",
     "text": [
      "La probabilidad de que el equipo sea sudamericano es de 18.75%\n"
     ]
    }
   ],
   "execution_count": 10
  },
  {
   "metadata": {},
   "cell_type": "markdown",
   "source": "f. clasificar a segunda ronda\n",
   "id": "f3b96619b2bcb587"
  },
  {
   "metadata": {
    "ExecuteTime": {
     "end_time": "2024-08-12T02:40:27.469036Z",
     "start_time": "2024-08-12T02:40:27.466458Z"
    }
   },
   "cell_type": "code",
   "source": [
    "# Para esto tomamos la cantidad de equipos que clasifican por sobre el total\n",
    "p_clasificar = ((clasificados / todos) * 100).round(2)\n",
    "print(f' La probabilidad de clasificar es de {p_clasificar}%')"
   ],
   "id": "4c35eb797b14bc90",
   "outputs": [
    {
     "name": "stdout",
     "output_type": "stream",
     "text": [
      " La probabilidad de clasificar es de 50.0%\n"
     ]
    }
   ],
   "execution_count": 11
  },
  {
   "metadata": {},
   "cell_type": "markdown",
   "source": "g. ganar al menos un partido\n",
   "id": "d3d375c31f8b5703"
  },
  {
   "metadata": {
    "ExecuteTime": {
     "end_time": "2024-08-12T02:40:27.472779Z",
     "start_time": "2024-08-12T02:40:27.469810Z"
    }
   },
   "cell_type": "code",
   "source": [
    "# Calculamos la cantidad de equipos que por lo menos ganaron un partido\n",
    "ganados = (df_worldcup2014['juegos_ganados'] >= 1).sum()\n",
    "# Calculamos la probabilidad de ser un equipo que por lo menos gana un partido, tomando los que ganaron por lo menos uno sobre el total de equipos\n",
    "p_de_ganar_1 = ((ganados / todos) * 100).round(2)\n",
    "print(f'La probabilidad de haber ganado por lo menos un partido es de {p_de_ganar_1}%')\n"
   ],
   "id": "bc8f74b8340a18c7",
   "outputs": [
    {
     "name": "stdout",
     "output_type": "stream",
     "text": [
      "La probabilidad de haber ganado por lo menos un partido es de 71.88%\n"
     ]
    }
   ],
   "execution_count": 12
  },
  {
   "metadata": {},
   "cell_type": "markdown",
   "source": "h. pertenecer a África y clasificar a segunda ronda\n",
   "id": "31ae0d5584dfe434"
  },
  {
   "metadata": {
    "ExecuteTime": {
     "end_time": "2024-08-12T02:40:27.477881Z",
     "start_time": "2024-08-12T02:40:27.473503Z"
    }
   },
   "cell_type": "code",
   "source": [
    "# Determinamos la probabilidad de que el equipo pertenezca a Africa y clasifique a la segunda ronda, sobre el total de paises\n",
    "p_africa_y_clasificar = len(df_worldcup2014[(df_worldcup2014['continent'] == 'africa') & (df_worldcup2014['clasificado'] == 1)]) / todos * 100\n",
    "print(f'La probabilidad de pertenecer a Africa y clasificar a segunda ronda es {p_africa_y_clasificar}%')"
   ],
   "id": "2cc1a29f451d0814",
   "outputs": [
    {
     "name": "stdout",
     "output_type": "stream",
     "text": [
      "La probabilidad de pertenecer a Africa y clasificar a segunda ronda es 6.25%\n"
     ]
    }
   ],
   "execution_count": 13
  },
  {
   "metadata": {},
   "cell_type": "markdown",
   "source": "i. pertenecer a Europa y clasificar a segunda ronda\n",
   "id": "a88ee3c1765d5122"
  },
  {
   "metadata": {
    "ExecuteTime": {
     "end_time": "2024-08-12T02:40:27.483337Z",
     "start_time": "2024-08-12T02:40:27.479750Z"
    }
   },
   "cell_type": "code",
   "source": [
    "# Determinamos la probabilidad de que el equipo pertenezca a Europa y clasifique a la segunda ronda, sobre el total de paises\n",
    "p_europa_y_clasificar = len(df_worldcup2014[(df_worldcup2014['continent'] == 'europe') & (df_worldcup2014['clasificado'] == 1)]) / todos * 100\n",
    "print(f'La probabilidad de pertenecer a Europa y clasificar a segunda ronda es {p_europa_y_clasificar}%')"
   ],
   "id": "584f4775a3448466",
   "outputs": [
    {
     "name": "stdout",
     "output_type": "stream",
     "text": [
      "La probabilidad de pertenecer a Europa y clasificar a segunda ronda es 18.75%\n"
     ]
    }
   ],
   "execution_count": 14
  },
  {
   "metadata": {},
   "cell_type": "markdown",
   "source": "j. pertenecer a Asia y clasificar a segunda ronda\n",
   "id": "885311cb3c3ed023"
  },
  {
   "metadata": {
    "ExecuteTime": {
     "end_time": "2024-08-12T02:40:27.488059Z",
     "start_time": "2024-08-12T02:40:27.484557Z"
    }
   },
   "cell_type": "code",
   "source": [
    "# Determinamos la probabilidad de que el equipo pertenezca a Asia y clasifique a la segunda ronda, sobre el total de paises\n",
    "p_asia_y_clasificar = len(df_worldcup2014[(df_worldcup2014['continent'] == 'asia') & (df_worldcup2014['clasificado'] == 1)]) / todos * 100\n",
    "print(f'La probabilidad de pertenecer a Asia y clasificar a segunda ronda es {p_asia_y_clasificar}%')"
   ],
   "id": "46c8e0ebaa8b3940",
   "outputs": [
    {
     "name": "stdout",
     "output_type": "stream",
     "text": [
      "La probabilidad de pertenecer a Asia y clasificar a segunda ronda es 0.0%\n"
     ]
    }
   ],
   "execution_count": 15
  },
  {
   "metadata": {},
   "cell_type": "markdown",
   "source": "k. pertenecer a Sudamérica y clasificar a segunda ronda\n",
   "id": "4bc95f441dcbca7d"
  },
  {
   "metadata": {
    "ExecuteTime": {
     "end_time": "2024-08-12T02:40:27.492095Z",
     "start_time": "2024-08-12T02:40:27.489194Z"
    }
   },
   "cell_type": "code",
   "source": [
    "# Determinamos la probabilidad de que el equipo pertenezca a Sudamerica y clasifique a la segunda ronda, sobre el total de paises\n",
    "p_sudamerica_y_clasificar = len(df_worldcup2014[(df_worldcup2014['continent'] == 'southamerica') & (df_worldcup2014['clasificado'] == 1)]) / todos * 100\n",
    "print(f'La probabilidad de pertenecer a Sudamerica y clasificar a segunda ronda es {p_sudamerica_y_clasificar}%')\n"
   ],
   "id": "eefcec2783782555",
   "outputs": [
    {
     "name": "stdout",
     "output_type": "stream",
     "text": [
      "La probabilidad de pertenecer a Sudamerica y clasificar a segunda ronda es 15.625%\n"
     ]
    }
   ],
   "execution_count": 16
  },
  {
   "metadata": {},
   "cell_type": "markdown",
   "source": "l. pertenecer a Norteamérica y clasificar a segunda ronda\n",
   "id": "e54563628e3b88d7"
  },
  {
   "metadata": {
    "ExecuteTime": {
     "end_time": "2024-08-12T02:40:27.497156Z",
     "start_time": "2024-08-12T02:40:27.493441Z"
    }
   },
   "cell_type": "code",
   "source": [
    "# Determinamos la probabilidad de que el equipo pertenezca a Norteamerica y clasifique a la segunda ronda, sobre el total de paises\n",
    "p_norteamerica_y_clasificar = len(df_worldcup2014[(df_worldcup2014['continent'] == 'northamerica') & (df_worldcup2014['clasificado'] == 1)]) / todos * 100\n",
    "print(f'La probabilidad de pertenecer a Norteamerica y clasificar a segunda ronda es {p_norteamerica_y_clasificar}%')\n"
   ],
   "id": "1f271b255d3eefb1",
   "outputs": [
    {
     "name": "stdout",
     "output_type": "stream",
     "text": [
      "La probabilidad de pertenecer a Norteamerica y clasificar a segunda ronda es 9.375%\n"
     ]
    }
   ],
   "execution_count": 17
  },
  {
   "metadata": {},
   "cell_type": "markdown",
   "source": "m. pertenecer a África o clasificar a segunda ronda\n",
   "id": "4c31b37a70f243ce"
  },
  {
   "metadata": {
    "ExecuteTime": {
     "end_time": "2024-08-12T02:40:27.502115Z",
     "start_time": "2024-08-12T02:40:27.498915Z"
    }
   },
   "cell_type": "code",
   "source": [
    "# Determinamos la probabilidad de que el equipo pertenezca a Africa o clasifique a la segunda ronda, sobre el total de paises\n",
    "p_africa_o_clasificar = len(df_worldcup2014[(df_worldcup2014['continent'] == 'africa') | (df_worldcup2014['clasificado'] == 1)]) / todos * 100\n",
    "print(f'La probabilidad de pertenecer a Africa o clasificar a segunda ronda es {p_africa_o_clasificar}%')\n"
   ],
   "id": "495723090cb9abd0",
   "outputs": [
    {
     "name": "stdout",
     "output_type": "stream",
     "text": [
      "La probabilidad de pertenecer a Africa o clasificar a segunda ronda es 59.375%\n"
     ]
    }
   ],
   "execution_count": 18
  },
  {
   "metadata": {},
   "cell_type": "markdown",
   "source": "n. pertenecer a Europa o clasificar a segunda ronda\n",
   "id": "a00760f999cf45f5"
  },
  {
   "metadata": {
    "ExecuteTime": {
     "end_time": "2024-08-12T02:40:27.506677Z",
     "start_time": "2024-08-12T02:40:27.503531Z"
    }
   },
   "cell_type": "code",
   "source": [
    "# Determinamos la probabilidad de que el equipo pertenezca a Europa o clasifique a la segunda ronda, sobre el total de paises\n",
    "p_europa_o_clasificar = len(df_worldcup2014[(df_worldcup2014['continent'] == 'europe') | (df_worldcup2014['clasificado'] == 1)]) / todos * 100\n",
    "print(f'La probabilidad de pertenecer a Europa o clasificar a segunda ronda es {p_europa_o_clasificar}%')"
   ],
   "id": "5439c2ffe7d8fc8e",
   "outputs": [
    {
     "name": "stdout",
     "output_type": "stream",
     "text": [
      "La probabilidad de pertenecer a Europa o clasificar a segunda ronda es 71.875%\n"
     ]
    }
   ],
   "execution_count": 19
  },
  {
   "metadata": {},
   "cell_type": "markdown",
   "source": "o. pertenecer a Asia o clasificar a segunda ronda\n",
   "id": "ed0b4f1980f9efb6"
  },
  {
   "metadata": {
    "ExecuteTime": {
     "end_time": "2024-08-12T02:40:27.512235Z",
     "start_time": "2024-08-12T02:40:27.508125Z"
    }
   },
   "cell_type": "code",
   "source": [
    "# Determinamos la probabilidad de que el equipo pertenezca a Asia o clasifique a la segunda ronda, sobre el total de paises\n",
    "p_asia_o_clasificar = len(df_worldcup2014[(df_worldcup2014['continent'] == 'asia') | (df_worldcup2014['clasificado'] == 1)]) / todos * 100\n",
    "print(f'La probabilidad de pertenecer a Asia o clasificar a segunda ronda es {p_asia_o_clasificar}%')"
   ],
   "id": "36e76cd16442f132",
   "outputs": [
    {
     "name": "stdout",
     "output_type": "stream",
     "text": [
      "La probabilidad de pertenecer a Asia o clasificar a segunda ronda es 62.5%\n"
     ]
    }
   ],
   "execution_count": 20
  },
  {
   "metadata": {},
   "cell_type": "markdown",
   "source": "p. pertenecer a Sudamérica o clasificar a segunda ronda\n",
   "id": "96497ff42e275716"
  },
  {
   "metadata": {
    "ExecuteTime": {
     "end_time": "2024-08-12T02:40:27.531580Z",
     "start_time": "2024-08-12T02:40:27.528388Z"
    }
   },
   "cell_type": "code",
   "source": [
    "# Determinamos la probabilidad de que el equipo pertenezca a Sudamerica o clasifique a la segunda ronda, sobre el total de paises\n",
    "p_sudamerica_o_clasificar = len(df_worldcup2014[(df_worldcup2014['continent'] == 'southamerica') | (df_worldcup2014['clasificado'] == 1)]) / todos * 100\n",
    "print(f'La probabilidad de pertenecer a Sudamerica o clasificar a segunda ronda es {p_sudamerica_o_clasificar}%')"
   ],
   "id": "d85c8e52a1aa0165",
   "outputs": [
    {
     "name": "stdout",
     "output_type": "stream",
     "text": [
      "La probabilidad de pertenecer a Sudamerica o clasificar a segunda ronda es 53.125%\n"
     ]
    }
   ],
   "execution_count": 21
  },
  {
   "metadata": {},
   "cell_type": "markdown",
   "source": "q. pertenecer a Norteamérica o clasificar a segunda ronda\n",
   "id": "c3162eab9c1ce38a"
  },
  {
   "metadata": {
    "ExecuteTime": {
     "end_time": "2024-08-12T02:40:27.686291Z",
     "start_time": "2024-08-12T02:40:27.682627Z"
    }
   },
   "cell_type": "code",
   "source": [
    "# Determinamos la probabilidad de que el equipo pertenezca a Norteamerica o clasifique a la segunda ronda, sobre el total de paises\n",
    "p_norteamerica_o_clasificar = len(df_worldcup2014[(df_worldcup2014['continent'] == 'northamerica') | (df_worldcup2014['clasificado'] == 1)]) / todos * 100\n",
    "print(f'La probabilidad de pertenecer a Norteamerica o clasificar a segunda ronda es {p_norteamerica_o_clasificar}%')"
   ],
   "id": "1449f0235416e06b",
   "outputs": [
    {
     "name": "stdout",
     "output_type": "stream",
     "text": [
      "La probabilidad de pertenecer a Norteamerica o clasificar a segunda ronda es 53.125%\n"
     ]
    }
   ],
   "execution_count": 22
  },
  {
   "metadata": {},
   "cell_type": "markdown",
   "source": "r. pertenecer a África y haber ganado al menos un partido\n",
   "id": "358912a9844553da"
  },
  {
   "metadata": {
    "ExecuteTime": {
     "end_time": "2024-08-12T02:40:27.879981Z",
     "start_time": "2024-08-12T02:40:27.876429Z"
    }
   },
   "cell_type": "code",
   "source": [
    "# Determinamos la probabilidad de que el equipo pertenezca a Africa y gane por lo menos un partido\n",
    "p_africa_y_ganar_al_menos_un_partido = len(df_worldcup2014[(df_worldcup2014['continent'] == 'africa') & (df_worldcup2014['juegos_ganados'] > 0)]) / todos * 100\n",
    "print(f'La probabilidad de pertenecer a Africa y haber ganado al menos un partido es de {p_africa_y_ganar_al_menos_un_partido}%')"
   ],
   "id": "1b12c3939ea36d69",
   "outputs": [
    {
     "name": "stdout",
     "output_type": "stream",
     "text": [
      "La probabilidad de pertenecer a Africa y haber ganado al menos un partido es de 9.375%\n"
     ]
    }
   ],
   "execution_count": 23
  },
  {
   "metadata": {},
   "cell_type": "markdown",
   "source": "s. pertenecer a Europa y haber ganado al menos un partido\n",
   "id": "7cb4373dc1ac0bf5"
  },
  {
   "metadata": {
    "ExecuteTime": {
     "end_time": "2024-08-12T02:40:27.976773Z",
     "start_time": "2024-08-12T02:40:27.972260Z"
    }
   },
   "cell_type": "code",
   "source": [
    "# Determinamos la probabilidad de que el equipo pertenezca a Europa y gane por lo menos un partido\n",
    "p_europa_y_ganar_al_menos_un_partido = len(df_worldcup2014[(df_worldcup2014['continent'] == 'europe') & (df_worldcup2014['juegos_ganados'] > 0)]) / todos * 100\n",
    "print(f'La probabilidad de pertenecer a Europa y haber ganado al menos un partido es de {p_europa_y_ganar_al_menos_un_partido}%')"
   ],
   "id": "3dfcd1cb8b15bd68",
   "outputs": [
    {
     "name": "stdout",
     "output_type": "stream",
     "text": [
      "La probabilidad de pertenecer a Europa y haber ganado al menos un partido es de 34.375%\n"
     ]
    }
   ],
   "execution_count": 24
  },
  {
   "metadata": {},
   "cell_type": "markdown",
   "source": "t. pertenecer a Asia y haber ganado al menos un partido\n",
   "id": "3feeb9ed3022689c"
  },
  {
   "metadata": {
    "ExecuteTime": {
     "end_time": "2024-08-12T02:40:27.995189Z",
     "start_time": "2024-08-12T02:40:27.992349Z"
    }
   },
   "cell_type": "code",
   "source": [
    "# Determinamos la probabilidad de que el equipo pertenezca a Asia y gane por lo menos un partido\n",
    "p_asia_y_ganar_al_menos_un_partido = len(df_worldcup2014[(df_worldcup2014['continent'] == 'asia') & (df_worldcup2014['juegos_ganados'] > 0)]) / todos * 100\n",
    "print(f'La probabilidad de pertenecer a Asia y haber ganado al menos un partido es de {p_asia_y_ganar_al_menos_un_partido}%')"
   ],
   "id": "17e8c64531ea758a",
   "outputs": [
    {
     "name": "stdout",
     "output_type": "stream",
     "text": [
      "La probabilidad de pertenecer a Asia y haber ganado al menos un partido es de 0.0%\n"
     ]
    }
   ],
   "execution_count": 25
  },
  {
   "metadata": {},
   "cell_type": "markdown",
   "source": "u. pertenecer a Sudamérica y haber ganado al menos un partido\n",
   "id": "c252bb2f5a47de8d"
  },
  {
   "metadata": {
    "ExecuteTime": {
     "end_time": "2024-08-12T02:40:28.027875Z",
     "start_time": "2024-08-12T02:40:28.025136Z"
    }
   },
   "cell_type": "code",
   "source": [
    "# Determinamos la probabilidad de que el equipo pertenezca a Sudamerica y gane por lo menos un partido\n",
    "p_sudamerica_y_ganar_al_menos_un_partido = len(df_worldcup2014[(df_worldcup2014['continent'] == 'southamerica') & (df_worldcup2014['juegos_ganados'] > 0)]) / todos * 100\n",
    "print(f'La probabilidad de pertenecer a Sudamerica y haber ganado al menos un partido es de {p_sudamerica_y_ganar_al_menos_un_partido}%')"
   ],
   "id": "325f0e21651bb83f",
   "outputs": [
    {
     "name": "stdout",
     "output_type": "stream",
     "text": [
      "La probabilidad de pertenecer a Sudamerica y haber ganado al menos un partido es de 18.75%\n"
     ]
    }
   ],
   "execution_count": 26
  },
  {
   "metadata": {},
   "cell_type": "markdown",
   "source": "v. pertenecer a Norteamérica y haber ganado al menos un partido\n",
   "id": "f4dadca5bb3d278e"
  },
  {
   "metadata": {
    "ExecuteTime": {
     "end_time": "2024-08-12T02:40:28.050445Z",
     "start_time": "2024-08-12T02:40:28.047280Z"
    }
   },
   "cell_type": "code",
   "source": [
    "# Determinamos la probabilidad de que el equipo pertenezca a Norteamerica y gane por lo menos un partido\n",
    "p_norteamerica_y_ganar_al_menos_un_partido = len(df_worldcup2014[(df_worldcup2014['continent'] == 'northamerica') & (df_worldcup2014['juegos_ganados'] > 0)]) / todos * 100 \n",
    "print(f'La probabilidad de pertenecer a Norteamerica y haber ganado al menos un partido es de {p_norteamerica_y_ganar_al_menos_un_partido}%')"
   ],
   "id": "7ed8cbeec873b44e",
   "outputs": [
    {
     "name": "stdout",
     "output_type": "stream",
     "text": [
      "La probabilidad de pertenecer a Norteamerica y haber ganado al menos un partido es de 9.375%\n"
     ]
    }
   ],
   "execution_count": 27
  },
  {
   "metadata": {},
   "cell_type": "markdown",
   "source": "w. haber ganado al menos un partido y clasificar a segunda ronda",
   "id": "46ff2e375618f5b6"
  },
  {
   "metadata": {
    "ExecuteTime": {
     "end_time": "2024-08-12T02:40:28.097057Z",
     "start_time": "2024-08-12T02:40:28.094232Z"
    }
   },
   "cell_type": "code",
   "source": [
    "# # Determinamos la probabilidad de que el equipo gane por lo menos un partido y clasificar a segunda ronda\n",
    "p_al_menos_un_partido_y_clasificar = len(df_worldcup2014[(df_worldcup2014['clasificado'] == 1) & (df_worldcup2014['juegos_ganados'] > 0)]) / todos * 100\n",
    "print(f'La probabilidad de haber ganado al menos un partido y clasificar a segunda ronda es de {p_al_menos_un_partido_y_clasificar}%')"
   ],
   "id": "d021971d7536691f",
   "outputs": [
    {
     "name": "stdout",
     "output_type": "stream",
     "text": [
      "La probabilidad de haber ganado al menos un partido y clasificar a segunda ronda es de 50.0%\n"
     ]
    }
   ],
   "execution_count": 28
  },
  {
   "metadata": {},
   "cell_type": "markdown",
   "source": [
    "### 2. A partir de las probabilidades anteriores, y sin realizar conteos, calcular las\n",
    "###    siguientes probabilidades:"
   ],
   "id": "f5ce180509794638"
  },
  {
   "metadata": {},
   "cell_type": "markdown",
   "source": "$$P(A|B) = P(AyB) / P(B)$$",
   "id": "a1edd357117c1556"
  },
  {
   "metadata": {},
   "cell_type": "markdown",
   "source": "a. pertenecer a Europa, si se sabe que clasificó\n",
   "id": "2c4844061172cc4a"
  },
  {
   "metadata": {
    "ExecuteTime": {
     "end_time": "2024-08-12T02:40:28.115222Z",
     "start_time": "2024-08-12T02:40:28.113060Z"
    }
   },
   "cell_type": "code",
   "source": [
    "# Usamos la probabilidad de que sea europeo multiplicado por la probabilidad de clasificar y todo esto dividido por la probabilidad de clasificar\n",
    "p_europa_sabe_que_clasifico = (p_europa_y_clasificar / p_clasificar * 100).round(2)\n",
    "print(f'La probabilidad de pertenecer a Europa, si se sabe que clasifico es de {p_europa_sabe_que_clasifico}%')"
   ],
   "id": "c49060613124f104",
   "outputs": [
    {
     "name": "stdout",
     "output_type": "stream",
     "text": [
      "La probabilidad de pertenecer a Europa, si se sabe que clasifico es de 37.5%\n"
     ]
    }
   ],
   "execution_count": 29
  },
  {
   "metadata": {},
   "cell_type": "markdown",
   "source": "b. pertenecer a Sudamérica, si se sabe que clasificó\n",
   "id": "8d74422d7fe1f613"
  },
  {
   "metadata": {
    "ExecuteTime": {
     "end_time": "2024-08-12T02:40:28.134702Z",
     "start_time": "2024-08-12T02:40:28.132460Z"
    }
   },
   "cell_type": "code",
   "source": [
    "# Usamos la probabilidad de que sea sudamericano multiplicado por la probabilidad de clasificar y \n",
    "# todo esto dividido por la probabilidad de clasificar\n",
    "p_sudamerica_sabe_que_clasifico = (p_sudamerica_y_clasificar / p_clasificar * 100).round(2)\n",
    "print(f'La probabilidad de pertenecer a Sudamerica, si se sabe que clasifico es de {p_sudamerica_sabe_que_clasifico}%')"
   ],
   "id": "151588993d5a3363",
   "outputs": [
    {
     "name": "stdout",
     "output_type": "stream",
     "text": [
      "La probabilidad de pertenecer a Sudamerica, si se sabe que clasifico es de 31.25%\n"
     ]
    }
   ],
   "execution_count": 30
  },
  {
   "metadata": {},
   "cell_type": "markdown",
   "source": "c. pertenecer a África, si se sabe que ganó al menos un partido\n",
   "id": "5ff00fdd3ad3b063"
  },
  {
   "metadata": {
    "ExecuteTime": {
     "end_time": "2024-08-12T02:40:28.182301Z",
     "start_time": "2024-08-12T02:40:28.179997Z"
    }
   },
   "cell_type": "code",
   "source": [
    "# Usamos la probabilidad de que sea africano multiplicado por la probabilidad haber ganado por lo menos un partido y\n",
    "# todo esto dividido por la probabilidad de ganar por lo menos un partido\n",
    "p_africa_sabe_gano_al_menos_un_partido = (p_africa_y_ganar_al_menos_un_partido / p_de_ganar_1 * 100).round(2)\n",
    "print(f'La probabilidad de pertenecer a Africa si se sabe que gano al menos un partido es de {p_africa_sabe_gano_al_menos_un_partido}%')"
   ],
   "id": "d0776f284d31b2ed",
   "outputs": [
    {
     "name": "stdout",
     "output_type": "stream",
     "text": [
      "La probabilidad de pertenecer a Africa si se sabe que gano al menos un partido es de 13.04%\n"
     ]
    }
   ],
   "execution_count": 31
  },
  {
   "metadata": {},
   "cell_type": "markdown",
   "source": "d. haber ganado al menos un partido, si se sabe que clasificó\n",
   "id": "e2b5c0bb221e7cb3"
  },
  {
   "metadata": {
    "ExecuteTime": {
     "end_time": "2024-08-12T02:40:28.203257Z",
     "start_time": "2024-08-12T02:40:28.200675Z"
    }
   },
   "cell_type": "code",
   "source": [
    "# Usamos la probabilidad de haber ganado al menos un partido, multiplicado por la probabilidad de clasificar, dividido por la probabilidad de clasificar\n",
    "p_haber_ganado_un_partido_sabe_clasifico = (p_al_menos_un_partido_y_clasificar / p_clasificar * 100).round(2)\n",
    "print(f'La probabilidad de haber ganado al menos un partido si se sabe que clasifico es de {p_haber_ganado_un_partido_sabe_clasifico}%')"
   ],
   "id": "61d3480bb661dba0",
   "outputs": [
    {
     "name": "stdout",
     "output_type": "stream",
     "text": [
      "La probabilidad de haber ganado al menos un partido si se sabe que clasifico es de 100.0%\n"
     ]
    }
   ],
   "execution_count": 32
  },
  {
   "metadata": {},
   "cell_type": "markdown",
   "source": "e. haber ganado al menos un partido, si se sabe que pertenece a Norteamérica\n",
   "id": "f36aa8baafeb7baf"
  },
  {
   "metadata": {
    "ExecuteTime": {
     "end_time": "2024-08-12T02:40:28.221651Z",
     "start_time": "2024-08-12T02:40:28.219429Z"
    }
   },
   "cell_type": "code",
   "source": [
    "# Usamos la probabilidad haber ganado un partido multiplicado por la probabilidad de pertenecer a Norteamerica \n",
    "# y todo esto dividido por la probabilidad de pertenecer a Norteamerica.\n",
    "p_haber_ganado_un_partido_sabe_norteamerica = (p_norteamerica_y_ganar_al_menos_un_partido / p_norteamericanos * 100).round(2)\n",
    "print(f'La probabilidad de haber ganado al menos un partido, si se sabe que pertenece a Norteamerica es de {p_haber_ganado_un_partido_sabe_norteamerica}%')"
   ],
   "id": "226bbd20ef41aba1",
   "execution_count": 33,
   "outputs": [
    {
     "name": "stdout",
     "output_type": "stream",
     "text": [
      "La probabilidad de haber ganado al menos un partido, si se sabe que pertenece a Norteamerica es de 75.0%\n"
     ]
    }
   ]
  },
  {
   "metadata": {},
   "cell_type": "markdown",
   "source": "f. NO haber clasificado, si se sabe que pertenece a África",
   "id": "3620b13a9ff1c9a0"
  },
  {
   "metadata": {},
   "cell_type": "markdown",
   "source": "$$P(A^C) = 1 - P(A)$$",
   "id": "c6568b58259565da"
  },
  {
   "metadata": {
    "ExecuteTime": {
     "end_time": "2024-08-12T02:40:28.257838Z",
     "start_time": "2024-08-12T02:40:28.254743Z"
    }
   },
   "cell_type": "code",
   "source": [
    "# Primero determinamos la probabilidad de HABER clasificado si se sabe que pertenece a Africa\n",
    "p_haber_clasificado_sabe_africa = (p_africa_y_clasificar / p_africanos * 100).round(0)\n",
    "# Usamos la formula para calcular el complemento (sabiendo que las probabilidades de todos los eventos suma 1)\n",
    "p_no_haber_clasificado_sabe_africa =((1 - (p_africa_y_clasificar / p_africanos )) * 100).round(0)\n",
    "print(f'La probabilidad de NO haber clasificado, si se sabe que pertenece a Africa es de {p_no_haber_clasificado_sabe_africa}%')"
   ],
   "id": "7b1ca2a53b55e38b",
   "outputs": [
    {
     "name": "stdout",
     "output_type": "stream",
     "text": [
      "La probabilidad de NO haber clasificado, si se sabe que pertenece a Africa es de 60.0%\n"
     ]
    }
   ],
   "execution_count": 34
  },
  {
   "metadata": {},
   "cell_type": "markdown",
   "source": "",
   "id": "e2f177d225716aba"
  }
 ],
 "metadata": {
  "kernelspec": {
   "display_name": "Python 3",
   "language": "python",
   "name": "python3"
  },
  "language_info": {
   "codemirror_mode": {
    "name": "ipython",
    "version": 2
   },
   "file_extension": ".py",
   "mimetype": "text/x-python",
   "name": "python",
   "nbconvert_exporter": "python",
   "pygments_lexer": "ipython2",
   "version": "2.7.6"
  }
 },
 "nbformat": 4,
 "nbformat_minor": 5
}
